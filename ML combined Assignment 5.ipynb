{
 "cells": [
  {
   "cell_type": "raw",
   "metadata": {},
   "source": [
    "In this assignment students have to make ARIMA model over shampoo sales\n",
    "data and check the MSE between predicted and actual value."
   ]
  },
  {
   "cell_type": "code",
   "execution_count": 63,
   "metadata": {},
   "outputs": [],
   "source": [
    "import pandas as pd\n",
    "import matplotlib.pyplot as plt\n",
    "from statsmodels.tsa.arima_model import ARIMA\n",
    "from statsmodels.tsa.stattools import adfuller\n",
    "from pmdarima import auto_arima"
   ]
  },
  {
   "cell_type": "code",
   "execution_count": 60,
   "metadata": {},
   "outputs": [
    {
     "data": {
      "text/html": [
       "<div>\n",
       "<style scoped>\n",
       "    .dataframe tbody tr th:only-of-type {\n",
       "        vertical-align: middle;\n",
       "    }\n",
       "\n",
       "    .dataframe tbody tr th {\n",
       "        vertical-align: top;\n",
       "    }\n",
       "\n",
       "    .dataframe thead th {\n",
       "        text-align: right;\n",
       "    }\n",
       "</style>\n",
       "<table border=\"1\" class=\"dataframe\">\n",
       "  <thead>\n",
       "    <tr style=\"text-align: right;\">\n",
       "      <th></th>\n",
       "      <th>Month</th>\n",
       "      <th>Sales</th>\n",
       "    </tr>\n",
       "  </thead>\n",
       "  <tbody>\n",
       "    <tr>\n",
       "      <td>0</td>\n",
       "      <td>1-01</td>\n",
       "      <td>266.0</td>\n",
       "    </tr>\n",
       "    <tr>\n",
       "      <td>1</td>\n",
       "      <td>1-02</td>\n",
       "      <td>145.9</td>\n",
       "    </tr>\n",
       "    <tr>\n",
       "      <td>2</td>\n",
       "      <td>1-03</td>\n",
       "      <td>183.1</td>\n",
       "    </tr>\n",
       "    <tr>\n",
       "      <td>3</td>\n",
       "      <td>1-04</td>\n",
       "      <td>119.3</td>\n",
       "    </tr>\n",
       "    <tr>\n",
       "      <td>4</td>\n",
       "      <td>1-05</td>\n",
       "      <td>180.3</td>\n",
       "    </tr>\n",
       "  </tbody>\n",
       "</table>\n",
       "</div>"
      ],
      "text/plain": [
       "  Month  Sales\n",
       "0  1-01  266.0\n",
       "1  1-02  145.9\n",
       "2  1-03  183.1\n",
       "3  1-04  119.3\n",
       "4  1-05  180.3"
      ]
     },
     "execution_count": 60,
     "metadata": {},
     "output_type": "execute_result"
    }
   ],
   "source": [
    "df = pd.read_csv('shampoo.csv', parse_dates=True)\n",
    "df.head()"
   ]
  },
  {
   "cell_type": "code",
   "execution_count": 61,
   "metadata": {},
   "outputs": [
    {
     "data": {
      "text/plain": [
       "<matplotlib.axes._subplots.AxesSubplot at 0x18d93608>"
      ]
     },
     "execution_count": 61,
     "metadata": {},
     "output_type": "execute_result"
    },
    {
     "data": {
      "image/png": "[encoded data removed]",
      "text/plain": [
       "<Figure size 432x288 with 1 Axes>"
      ]
     },
     "metadata": {
      "needs_background": "light"
     },
     "output_type": "display_data"
    }
   ],
   "source": [
    "df.plot()"
   ]
  },
  {
   "cell_type": "code",
   "execution_count": 13,
   "metadata": {},
   "outputs": [],
   "source": [
    "def adf_test(series,title=''):\n",
    "    print('Augmented Dickey Fuller Test {}'.format(title))\n",
    "    result = adfuller(series)\n",
    "    labels = ['ADF test statistic','p-value','# lags used','# observations']\n",
    "    out = pd.Series(result[0:4],index=labels)\n",
    "    for key,val in result[4].items():\n",
    "        out[f'critical value ({key})']=val\n",
    "    print(out.to_string())\n",
    "    if result[1] <= 0.05:\n",
    "        print(\"Strong evidence against the null hypothesis\")\n",
    "        print(\"Reject the null hypothesis\")\n",
    "        print(\"Data has no unit root and is stationary\")\n",
    "    else:\n",
    "        print(\"Weak evidence against the null hypothesis\")\n",
    "        print(\"Fail to reject the null hypothesis\")\n",
    "        print(\"Data has a unit root and is non-stationary\")"
   ]
  },
  {
   "cell_type": "code",
   "execution_count": 14,
   "metadata": {},
   "outputs": [
    {
     "name": "stdout",
     "output_type": "stream",
     "text": [
      "Augmented Dickey Fuller Test \n",
      "ADF test statistic       3.060142\n",
      "p-value                  1.000000\n",
      "# lags used             10.000000\n",
      "# observations          25.000000\n",
      "critical value (1%)     -3.723863\n",
      "critical value (5%)     -2.986489\n",
      "critical value (10%)    -2.632800\n",
      "Weak evidence against the null hypothesis\n",
      "Fail to reject the null hypothesis\n",
      "Data has a unit root and is non-stationary\n"
     ]
    }
   ],
   "source": [
    "adf_test(df)"
   ]
  },
  {
   "cell_type": "code",
   "execution_count": 16,
   "metadata": {},
   "outputs": [],
   "source": [
    "df['First Difference']=df['Sales']-df['Sales'].shift(1)"
   ]
  },
  {
   "cell_type": "code",
   "execution_count": 17,
   "metadata": {},
   "outputs": [
    {
     "data": {
      "text/html": [
       "<div>\n",
       "<style scoped>\n",
       "    .dataframe tbody tr th:only-of-type {\n",
       "        vertical-align: middle;\n",
       "    }\n",
       "\n",
       "    .dataframe tbody tr th {\n",
       "        vertical-align: top;\n",
       "    }\n",
       "\n",
       "    .dataframe thead th {\n",
       "        text-align: right;\n",
       "    }\n",
       "</style>\n",
       "<table border=\"1\" class=\"dataframe\">\n",
       "  <thead>\n",
       "    <tr style=\"text-align: right;\">\n",
       "      <th></th>\n",
       "      <th>Sales</th>\n",
       "      <th>First Difference</th>\n",
       "    </tr>\n",
       "    <tr>\n",
       "      <th>Month</th>\n",
       "      <th></th>\n",
       "      <th></th>\n",
       "    </tr>\n",
       "  </thead>\n",
       "  <tbody>\n",
       "    <tr>\n",
       "      <td>1-01</td>\n",
       "      <td>266.0</td>\n",
       "      <td>NaN</td>\n",
       "    </tr>\n",
       "    <tr>\n",
       "      <td>1-02</td>\n",
       "      <td>145.9</td>\n",
       "      <td>-120.1</td>\n",
       "    </tr>\n",
       "    <tr>\n",
       "      <td>1-03</td>\n",
       "      <td>183.1</td>\n",
       "      <td>37.2</td>\n",
       "    </tr>\n",
       "    <tr>\n",
       "      <td>1-04</td>\n",
       "      <td>119.3</td>\n",
       "      <td>-63.8</td>\n",
       "    </tr>\n",
       "    <tr>\n",
       "      <td>1-05</td>\n",
       "      <td>180.3</td>\n",
       "      <td>61.0</td>\n",
       "    </tr>\n",
       "  </tbody>\n",
       "</table>\n",
       "</div>"
      ],
      "text/plain": [
       "       Sales  First Difference\n",
       "Month                         \n",
       "1-01   266.0               NaN\n",
       "1-02   145.9            -120.1\n",
       "1-03   183.1              37.2\n",
       "1-04   119.3             -63.8\n",
       "1-05   180.3              61.0"
      ]
     },
     "execution_count": 17,
     "metadata": {},
     "output_type": "execute_result"
    }
   ],
   "source": [
    "df.head()"
   ]
  },
  {
   "cell_type": "code",
   "execution_count": 19,
   "metadata": {},
   "outputs": [
    {
     "name": "stdout",
     "output_type": "stream",
     "text": [
      "Augmented Dickey Fuller Test \n",
      "ADF test statistic     -7.249074e+00\n",
      "p-value                 1.799857e-10\n",
      "# lags used             1.000000e+00\n",
      "# observations          3.300000e+01\n",
      "critical value (1%)    -3.646135e+00\n",
      "critical value (5%)    -2.954127e+00\n",
      "critical value (10%)   -2.615968e+00\n",
      "Strong evidence against the null hypothesis\n",
      "Reject the null hypothesis\n",
      "Data has no unit root and is stationary\n"
     ]
    }
   ],
   "source": [
    "adf_test(df['First Difference'].dropna())"
   ]
  },
  {
   "cell_type": "code",
   "execution_count": 20,
   "metadata": {},
   "outputs": [
    {
     "data": {
      "text/plain": [
       "<matplotlib.axes._subplots.AxesSubplot at 0x12be9588>"
      ]
     },
     "execution_count": 20,
     "metadata": {},
     "output_type": "execute_result"
    },
    {
     "data": {
      "image/png": "[encoded data removed]",
      "text/plain": [
       "<Figure size 432x288 with 1 Axes>"
      ]
     },
     "metadata": {
      "needs_background": "light"
     },
     "output_type": "display_data"
    }
   ],
   "source": [
    "df['First Difference'].plot()"
   ]
  },
  {
   "cell_type": "code",
   "execution_count": 31,
   "metadata": {},
   "outputs": [
    {
     "data": {
      "text/plain": [
       "(36, 2)"
      ]
     },
     "execution_count": 31,
     "metadata": {},
     "output_type": "execute_result"
    }
   ],
   "source": [
    "df.shape"
   ]
  },
  {
   "cell_type": "code",
   "execution_count": 43,
   "metadata": {},
   "outputs": [
    {
     "data": {
      "image/png": "[encoded data removed]",
      "text/plain": [
       "<Figure size 432x288 with 1 Axes>"
      ]
     },
     "metadata": {
      "needs_background": "light"
     },
     "output_type": "display_data"
    }
   ],
   "source": [
    "from statsmodels.graphics.tsaplots import plot_acf,plot_pacf\n",
    "\n",
    "title = 'Autocorrelation: Sales'\n",
    "lags = 12\n",
    "plot_acf(df['First Difference'].iloc[1:],title=title,lags=lags);"
   ]
  },
  {
   "cell_type": "code",
   "execution_count": 44,
   "metadata": {},
   "outputs": [
    {
     "data": {
      "image/png": "[encoded data removed]",
      "text/plain": [
       "<Figure size 432x288 with 1 Axes>"
      ]
     },
     "metadata": {
      "needs_background": "light"
     },
     "output_type": "display_data"
    }
   ],
   "source": [
    "title = 'Partial Autocorrelation: Sales'\n",
    "lags = 12\n",
    "plot_pacf(df['First Difference'].iloc[1:],title=title,lags=lags);"
   ]
  },
  {
   "cell_type": "code",
   "execution_count": 65,
   "metadata": {},
   "outputs": [
    {
     "name": "stdout",
     "output_type": "stream",
     "text": [
      "Performing stepwise search to minimize aic\n",
      "Fit ARIMA: (0, 1, 0)x(0, 0, 0, 0) (constant=True); AIC=430.873, BIC=433.984, Time=0.497 seconds\n",
      "Fit ARIMA: (1, 1, 0)x(0, 0, 0, 0) (constant=True); AIC=405.977, BIC=410.643, Time=0.145 seconds\n",
      "Fit ARIMA: (0, 1, 1)x(0, 0, 0, 0) (constant=True); AIC=408.967, BIC=413.633, Time=0.301 seconds\n",
      "Fit ARIMA: (0, 1, 0)x(0, 0, 0, 0) (constant=False); AIC=429.229, BIC=430.784, Time=0.022 seconds\n",
      "Fit ARIMA: (2, 1, 0)x(0, 0, 0, 0) (constant=True); AIC=403.573, BIC=409.794, Time=0.338 seconds\n",
      "Fit ARIMA: (2, 1, 1)x(0, 0, 0, 0) (constant=True); AIC=404.226, BIC=412.003, Time=0.455 seconds\n",
      "Fit ARIMA: (1, 1, 1)x(0, 0, 0, 0) (constant=True); AIC=402.407, BIC=408.629, Time=0.377 seconds\n",
      "Fit ARIMA: (1, 1, 2)x(0, 0, 0, 0) (constant=True); AIC=401.464, BIC=409.241, Time=0.760 seconds\n",
      "Fit ARIMA: (0, 1, 2)x(0, 0, 0, 0) (constant=True); AIC=399.527, BIC=405.748, Time=0.387 seconds\n",
      "Near non-invertible roots for order (0, 1, 2)(0, 0, 0, 0); setting score to inf (at least one inverse root too close to the border of the unit circle: 1.000)\n",
      "Fit ARIMA: (2, 1, 2)x(0, 0, 0, 0) (constant=True); AIC=404.571, BIC=413.903, Time=0.518 seconds\n",
      "Near non-invertible roots for order (2, 1, 2)(0, 0, 0, 0); setting score to inf (at least one inverse root too close to the border of the unit circle: 0.999)\n",
      "Total fit time: 4.048 seconds\n"
     ]
    },
    {
     "data": {
      "text/html": [
       "<table class=\"simpletable\">\n",
       "<caption>SARIMAX Results</caption>\n",
       "<tr>\n",
       "  <th>Dep. Variable:</th>           <td>y</td>        <th>  No. Observations:  </th>    <td>36</td>   \n",
       "</tr>\n",
       "<tr>\n",
       "  <th>Model:</th>           <td>SARIMAX(0, 1, 2)</td> <th>  Log Likelihood     </th> <td>-195.763</td>\n",
       "</tr>\n",
       "<tr>\n",
       "  <th>Date:</th>            <td>Thu, 23 Jul 2020</td> <th>  AIC                </th>  <td>399.527</td>\n",
       "</tr>\n",
       "<tr>\n",
       "  <th>Time:</th>                <td>10:30:51</td>     <th>  BIC                </th>  <td>405.748</td>\n",
       "</tr>\n",
       "<tr>\n",
       "  <th>Sample:</th>                  <td>0</td>        <th>  HQIC               </th>  <td>401.675</td>\n",
       "</tr>\n",
       "<tr>\n",
       "  <th></th>                       <td> - 36</td>      <th>                     </th>     <td> </td>   \n",
       "</tr>\n",
       "<tr>\n",
       "  <th>Covariance Type:</th>        <td>opg</td>       <th>                     </th>     <td> </td>   \n",
       "</tr>\n",
       "</table>\n",
       "<table class=\"simpletable\">\n",
       "<tr>\n",
       "      <td></td>         <th>coef</th>     <th>std err</th>      <th>z</th>      <th>P>|z|</th>  <th>[0.025</th>    <th>0.975]</th>  \n",
       "</tr>\n",
       "<tr>\n",
       "  <th>intercept</th> <td>    9.4561</td> <td>    7.825</td> <td>    1.209</td> <td> 0.227</td> <td>   -5.880</td> <td>   24.792</td>\n",
       "</tr>\n",
       "<tr>\n",
       "  <th>ma.L1</th>     <td>   -1.3227</td> <td>   40.250</td> <td>   -0.033</td> <td> 0.974</td> <td>  -80.210</td> <td>   77.565</td>\n",
       "</tr>\n",
       "<tr>\n",
       "  <th>ma.L2</th>     <td>    0.9996</td> <td>   60.848</td> <td>    0.016</td> <td> 0.987</td> <td> -118.260</td> <td>  120.259</td>\n",
       "</tr>\n",
       "<tr>\n",
       "  <th>sigma2</th>    <td> 3526.0010</td> <td> 2.14e+05</td> <td>    0.016</td> <td> 0.987</td> <td>-4.16e+05</td> <td> 4.23e+05</td>\n",
       "</tr>\n",
       "</table>\n",
       "<table class=\"simpletable\">\n",
       "<tr>\n",
       "  <th>Ljung-Box (Q):</th>          <td>36.34</td> <th>  Jarque-Bera (JB):  </th> <td>0.04</td>\n",
       "</tr>\n",
       "<tr>\n",
       "  <th>Prob(Q):</th>                <td>0.36</td>  <th>  Prob(JB):          </th> <td>0.98</td>\n",
       "</tr>\n",
       "<tr>\n",
       "  <th>Heteroskedasticity (H):</th> <td>0.84</td>  <th>  Skew:              </th> <td>0.06</td>\n",
       "</tr>\n",
       "<tr>\n",
       "  <th>Prob(H) (two-sided):</th>    <td>0.76</td>  <th>  Kurtosis:          </th> <td>2.87</td>\n",
       "</tr>\n",
       "</table><br/><br/>Warnings:<br/>[1] Covariance matrix calculated using the outer product of gradients (complex-step)."
      ],
      "text/plain": [
       "<class 'statsmodels.iolib.summary.Summary'>\n",
       "\"\"\"\n",
       "                               SARIMAX Results                                \n",
       "==============================================================================\n",
       "Dep. Variable:                      y   No. Observations:                   36\n",
       "Model:               SARIMAX(0, 1, 2)   Log Likelihood                -195.763\n",
       "Date:                Thu, 23 Jul 2020   AIC                            399.527\n",
       "Time:                        10:30:51   BIC                            405.748\n",
       "Sample:                             0   HQIC                           401.675\n",
       "                                 - 36                                         \n",
       "Covariance Type:                  opg                                         \n",
       "==============================================================================\n",
       "                 coef    std err          z      P>|z|      [0.025      0.975]\n",
       "------------------------------------------------------------------------------\n",
       "intercept      9.4561      7.825      1.209      0.227      -5.880      24.792\n",
       "ma.L1         -1.3227     40.250     -0.033      0.974     -80.210      77.565\n",
       "ma.L2          0.9996     60.848      0.016      0.987    -118.260     120.259\n",
       "sigma2      3526.0010   2.14e+05      0.016      0.987   -4.16e+05    4.23e+05\n",
       "===================================================================================\n",
       "Ljung-Box (Q):                       36.34   Jarque-Bera (JB):                 0.04\n",
       "Prob(Q):                              0.36   Prob(JB):                         0.98\n",
       "Heteroskedasticity (H):               0.84   Skew:                             0.06\n",
       "Prob(H) (two-sided):                  0.76   Kurtosis:                         2.87\n",
       "===================================================================================\n",
       "\n",
       "Warnings:\n",
       "[1] Covariance matrix calculated using the outer product of gradients (complex-step).\n",
       "\"\"\""
      ]
     },
     "execution_count": 65,
     "metadata": {},
     "output_type": "execute_result"
    }
   ],
   "source": [
    "stepwise_fit = auto_arima(df['Sales'], start_p=0, start_q=0,\n",
    "                          max_p=2, max_q=2, m=12,\n",
    "                          seasonal=False,\n",
    "                          d=None, trace=True,\n",
    "                          error_action='ignore',   # we don't want to know if an order does not work\n",
    "                          suppress_warnings=True,  # we don't want convergence warnings\n",
    "                          stepwise=True)           # set to stepwise\n",
    "\n",
    "stepwise_fit.summary()"
   ]
  },
  {
   "cell_type": "code",
   "execution_count": 66,
   "metadata": {},
   "outputs": [],
   "source": [
    "model=ARIMA(df['Sales'],order=(0, 1, 2))\n",
    "model_fit=model.fit()"
   ]
  },
  {
   "cell_type": "code",
   "execution_count": 67,
   "metadata": {},
   "outputs": [
    {
     "data": {
      "text/html": [
       "<table class=\"simpletable\">\n",
       "<caption>ARIMA Model Results</caption>\n",
       "<tr>\n",
       "  <th>Dep. Variable:</th>      <td>D.Sales</td>     <th>  No. Observations:  </th>    <td>35</td>   \n",
       "</tr>\n",
       "<tr>\n",
       "  <th>Model:</th>          <td>ARIMA(0, 1, 2)</td>  <th>  Log Likelihood     </th> <td>-195.803</td>\n",
       "</tr>\n",
       "<tr>\n",
       "  <th>Method:</th>             <td>css-mle</td>     <th>  S.D. of innovations</th>  <td>61.594</td> \n",
       "</tr>\n",
       "<tr>\n",
       "  <th>Date:</th>          <td>Thu, 23 Jul 2020</td> <th>  AIC                </th>  <td>399.606</td>\n",
       "</tr>\n",
       "<tr>\n",
       "  <th>Time:</th>              <td>10:31:23</td>     <th>  BIC                </th>  <td>405.828</td>\n",
       "</tr>\n",
       "<tr>\n",
       "  <th>Sample:</th>                <td>1</td>        <th>  HQIC               </th>  <td>401.754</td>\n",
       "</tr>\n",
       "<tr>\n",
       "  <th></th>                       <td> </td>        <th>                     </th>     <td> </td>   \n",
       "</tr>\n",
       "</table>\n",
       "<table class=\"simpletable\">\n",
       "<tr>\n",
       "        <td></td>           <th>coef</th>     <th>std err</th>      <th>z</th>      <th>P>|z|</th>  <th>[0.025</th>    <th>0.975]</th>  \n",
       "</tr>\n",
       "<tr>\n",
       "  <th>const</th>         <td>   10.1715</td> <td>    6.423</td> <td>    1.584</td> <td> 0.113</td> <td>   -2.418</td> <td>   22.761</td>\n",
       "</tr>\n",
       "<tr>\n",
       "  <th>ma.L1.D.Sales</th> <td>   -1.3068</td> <td>    0.164</td> <td>   -7.956</td> <td> 0.000</td> <td>   -1.629</td> <td>   -0.985</td>\n",
       "</tr>\n",
       "<tr>\n",
       "  <th>ma.L2.D.Sales</th> <td>    0.8950</td> <td>    0.197</td> <td>    4.535</td> <td> 0.000</td> <td>    0.508</td> <td>    1.282</td>\n",
       "</tr>\n",
       "</table>\n",
       "<table class=\"simpletable\">\n",
       "<caption>Roots</caption>\n",
       "<tr>\n",
       "    <td></td>   <th>            Real</th>  <th>         Imaginary</th> <th>         Modulus</th>  <th>        Frequency</th>\n",
       "</tr>\n",
       "<tr>\n",
       "  <th>MA.1</th> <td>           0.7300</td> <td>          -0.7644j</td> <td>           1.0570</td> <td>          -0.1287</td>\n",
       "</tr>\n",
       "<tr>\n",
       "  <th>MA.2</th> <td>           0.7300</td> <td>          +0.7644j</td> <td>           1.0570</td> <td>           0.1287</td>\n",
       "</tr>\n",
       "</table>"
      ],
      "text/plain": [
       "<class 'statsmodels.iolib.summary.Summary'>\n",
       "\"\"\"\n",
       "                             ARIMA Model Results                              \n",
       "==============================================================================\n",
       "Dep. Variable:                D.Sales   No. Observations:                   35\n",
       "Model:                 ARIMA(0, 1, 2)   Log Likelihood                -195.803\n",
       "Method:                       css-mle   S.D. of innovations             61.594\n",
       "Date:                Thu, 23 Jul 2020   AIC                            399.606\n",
       "Time:                        10:31:23   BIC                            405.828\n",
       "Sample:                             1   HQIC                           401.754\n",
       "                                                                              \n",
       "=================================================================================\n",
       "                    coef    std err          z      P>|z|      [0.025      0.975]\n",
       "---------------------------------------------------------------------------------\n",
       "const            10.1715      6.423      1.584      0.113      -2.418      22.761\n",
       "ma.L1.D.Sales    -1.3068      0.164     -7.956      0.000      -1.629      -0.985\n",
       "ma.L2.D.Sales     0.8950      0.197      4.535      0.000       0.508       1.282\n",
       "                                    Roots                                    \n",
       "=============================================================================\n",
       "                  Real          Imaginary           Modulus         Frequency\n",
       "-----------------------------------------------------------------------------\n",
       "MA.1            0.7300           -0.7644j            1.0570           -0.1287\n",
       "MA.2            0.7300           +0.7644j            1.0570            0.1287\n",
       "-----------------------------------------------------------------------------\n",
       "\"\"\""
      ]
     },
     "execution_count": 67,
     "metadata": {},
     "output_type": "execute_result"
    }
   ],
   "source": [
    "model_fit.summary()"
   ]
  },
  {
   "cell_type": "code",
   "execution_count": 68,
   "metadata": {},
   "outputs": [
    {
     "data": {
      "text/plain": [
       "<matplotlib.axes._subplots.AxesSubplot at 0x197f5848>"
      ]
     },
     "execution_count": 68,
     "metadata": {},
     "output_type": "execute_result"
    },
    {
     "data": {
      "image/png": "[encoded data removed]",
      "text/plain": [
       "<Figure size 864x576 with 1 Axes>"
      ]
     },
     "metadata": {
      "needs_background": "light"
     },
     "output_type": "display_data"
    }
   ],
   "source": [
    "df['forecast']=model_fit.predict(start=23,end=35,dynamic=True)\n",
    "df[['Sales','forecast']].plot(figsize=(12,8))"
   ]
  },
  {
   "cell_type": "code",
   "execution_count": 76,
   "metadata": {},
   "outputs": [
    {
     "data": {
      "text/html": [
       "<div>\n",
       "<style scoped>\n",
       "    .dataframe tbody tr th:only-of-type {\n",
       "        vertical-align: middle;\n",
       "    }\n",
       "\n",
       "    .dataframe tbody tr th {\n",
       "        vertical-align: top;\n",
       "    }\n",
       "\n",
       "    .dataframe thead th {\n",
       "        text-align: right;\n",
       "    }\n",
       "</style>\n",
       "<table border=\"1\" class=\"dataframe\">\n",
       "  <thead>\n",
       "    <tr style=\"text-align: right;\">\n",
       "      <th></th>\n",
       "      <th>Month</th>\n",
       "      <th>Sales</th>\n",
       "      <th>forecast</th>\n",
       "    </tr>\n",
       "  </thead>\n",
       "  <tbody>\n",
       "    <tr>\n",
       "      <td>24</td>\n",
       "      <td>3-01</td>\n",
       "      <td>339.7</td>\n",
       "      <td>-0.789330</td>\n",
       "    </tr>\n",
       "    <tr>\n",
       "      <td>25</td>\n",
       "      <td>3-02</td>\n",
       "      <td>440.4</td>\n",
       "      <td>10.171459</td>\n",
       "    </tr>\n",
       "    <tr>\n",
       "      <td>26</td>\n",
       "      <td>3-03</td>\n",
       "      <td>315.9</td>\n",
       "      <td>10.171459</td>\n",
       "    </tr>\n",
       "    <tr>\n",
       "      <td>27</td>\n",
       "      <td>3-04</td>\n",
       "      <td>439.3</td>\n",
       "      <td>10.171459</td>\n",
       "    </tr>\n",
       "    <tr>\n",
       "      <td>28</td>\n",
       "      <td>3-05</td>\n",
       "      <td>401.3</td>\n",
       "      <td>10.171459</td>\n",
       "    </tr>\n",
       "    <tr>\n",
       "      <td>29</td>\n",
       "      <td>3-06</td>\n",
       "      <td>437.4</td>\n",
       "      <td>10.171459</td>\n",
       "    </tr>\n",
       "    <tr>\n",
       "      <td>30</td>\n",
       "      <td>3-07</td>\n",
       "      <td>575.5</td>\n",
       "      <td>10.171459</td>\n",
       "    </tr>\n",
       "    <tr>\n",
       "      <td>31</td>\n",
       "      <td>3-08</td>\n",
       "      <td>407.6</td>\n",
       "      <td>10.171459</td>\n",
       "    </tr>\n",
       "    <tr>\n",
       "      <td>32</td>\n",
       "      <td>3-09</td>\n",
       "      <td>682.0</td>\n",
       "      <td>10.171459</td>\n",
       "    </tr>\n",
       "    <tr>\n",
       "      <td>33</td>\n",
       "      <td>3-10</td>\n",
       "      <td>475.3</td>\n",
       "      <td>10.171459</td>\n",
       "    </tr>\n",
       "    <tr>\n",
       "      <td>34</td>\n",
       "      <td>3-11</td>\n",
       "      <td>581.3</td>\n",
       "      <td>10.171459</td>\n",
       "    </tr>\n",
       "    <tr>\n",
       "      <td>35</td>\n",
       "      <td>3-12</td>\n",
       "      <td>646.9</td>\n",
       "      <td>10.171459</td>\n",
       "    </tr>\n",
       "  </tbody>\n",
       "</table>\n",
       "</div>"
      ],
      "text/plain": [
       "   Month  Sales   forecast\n",
       "24  3-01  339.7  -0.789330\n",
       "25  3-02  440.4  10.171459\n",
       "26  3-03  315.9  10.171459\n",
       "27  3-04  439.3  10.171459\n",
       "28  3-05  401.3  10.171459\n",
       "29  3-06  437.4  10.171459\n",
       "30  3-07  575.5  10.171459\n",
       "31  3-08  407.6  10.171459\n",
       "32  3-09  682.0  10.171459\n",
       "33  3-10  475.3  10.171459\n",
       "34  3-11  581.3  10.171459\n",
       "35  3-12  646.9  10.171459"
      ]
     },
     "execution_count": 76,
     "metadata": {},
     "output_type": "execute_result"
    }
   ],
   "source": [
    "df.tail(12)"
   ]
  },
  {
   "cell_type": "code",
   "execution_count": 74,
   "metadata": {},
   "outputs": [
    {
     "data": {
      "text/plain": [
       "218710.03592573266"
      ]
     },
     "execution_count": 74,
     "metadata": {},
     "output_type": "execute_result"
    }
   ],
   "source": [
    "from sklearn.metrics import mean_squared_error\n",
    "mean_squared_error(df['Sales'].iloc[23:], df['forecast'].iloc[23:])"
   ]
  },
  {
   "cell_type": "code",
   "execution_count": 75,
   "metadata": {},
   "outputs": [
    {
     "data": {
      "text/plain": [
       "467.6644480027669"
      ]
     },
     "execution_count": 75,
     "metadata": {},
     "output_type": "execute_result"
    }
   ],
   "source": [
    "from statsmodels.tools.eval_measures import rmse\n",
    "rmse(df['Sales'].iloc[23:], df['forecast'].iloc[23:])"
   ]
  },
  {
   "cell_type": "code",
   "execution_count": null,
   "metadata": {},
   "outputs": [],
   "source": []
  }
 ],
 "metadata": {
  "kernelspec": {
   "display_name": "Python 3",
   "language": "python",
   "name": "python3"
  },
  "language_info": {
   "codemirror_mode": {
    "name": "ipython",
    "version": 3
   },
   "file_extension": ".py",
   "mimetype": "text/x-python",
   "name": "python",
   "nbconvert_exporter": "python",
   "pygments_lexer": "ipython3",
   "version": "3.7.4"
  }
 },
 "nbformat": 4,
 "nbformat_minor": 4
}
