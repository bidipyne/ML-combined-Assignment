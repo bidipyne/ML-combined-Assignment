{
 "cells": [
  {
   "cell_type": "raw",
   "metadata": {},
   "source": [
    "In this assignment students have to transform iris data into 3 dimensions\n",
    "and plot a 3d chart with transformed dimensions and colour each data\n",
    "point with specific class."
   ]
  },
  {
   "cell_type": "code",
   "execution_count": 9,
   "metadata": {},
   "outputs": [],
   "source": [
    "import pandas as pd\n",
    "import numpy as np\n",
    "import matplotlib.pyplot as plt\n",
    "from mpl_toolkits.mplot3d import Axes3D\n",
    "from sklearn import decomposition\n",
    "from sklearn import datasets"
   ]
  },
  {
   "cell_type": "code",
   "execution_count": 10,
   "metadata": {},
   "outputs": [],
   "source": [
    "iris_data = datasets.load_iris()"
   ]
  },
  {
   "cell_type": "code",
   "execution_count": 11,
   "metadata": {},
   "outputs": [
    {
     "data": {
      "text/plain": [
       "['sepal length (cm)',\n",
       " 'sepal width (cm)',\n",
       " 'petal length (cm)',\n",
       " 'petal width (cm)']"
      ]
     },
     "execution_count": 11,
     "metadata": {},
     "output_type": "execute_result"
    }
   ],
   "source": [
    "iris_data.feature_names"
   ]
  },
  {
   "cell_type": "code",
   "execution_count": 12,
   "metadata": {},
   "outputs": [
    {
     "data": {
      "text/plain": [
       "array(['setosa', 'versicolor', 'virginica'], dtype='<U10')"
      ]
     },
     "execution_count": 12,
     "metadata": {},
     "output_type": "execute_result"
    }
   ],
   "source": [
    "iris_data.target_names"
   ]
  },
  {
   "cell_type": "code",
   "execution_count": 32,
   "metadata": {},
   "outputs": [],
   "source": [
    "X =iris_data.data"
   ]
  },
  {
   "cell_type": "code",
   "execution_count": 33,
   "metadata": {},
   "outputs": [],
   "source": [
    "y = iris_data.target"
   ]
  },
  {
   "cell_type": "code",
   "execution_count": 41,
   "metadata": {},
   "outputs": [],
   "source": [
    "# Feature scaling\n",
    "\n",
    "from sklearn.preprocessing import MinMaxScaler"
   ]
  },
  {
   "cell_type": "code",
   "execution_count": 42,
   "metadata": {},
   "outputs": [],
   "source": [
    "scaler = MinMaxScaler()\n",
    "X = scaler.fit_transform(X)"
   ]
  },
  {
   "cell_type": "code",
   "execution_count": 43,
   "metadata": {},
   "outputs": [],
   "source": [
    "from sklearn.decomposition import PCA"
   ]
  },
  {
   "cell_type": "code",
   "execution_count": 44,
   "metadata": {},
   "outputs": [],
   "source": [
    "pca = PCA(n_components=3)"
   ]
  },
  {
   "cell_type": "code",
   "execution_count": 45,
   "metadata": {},
   "outputs": [
    {
     "data": {
      "text/plain": [
       "array([[-0.38238408, -0.01919452,  0.12097756],\n",
       "       [-0.38666021, -0.14471739, -0.06704246],\n",
       "       [-0.41156941,  0.0123084 , -0.05490225],\n",
       "       [-0.39110517,  0.02170055, -0.12056157],\n",
       "       [-0.38873656,  0.06193941,  0.12376426],\n",
       "       [-0.32493428,  0.11598449,  0.28079249],\n",
       "       [-0.40181753,  0.17732929, -0.03388514],\n",
       "       [-0.37412408, -0.01504444,  0.06188505],\n",
       "       [-0.4111979 ,  0.01427449, -0.21904618],\n",
       "       [-0.38076432, -0.13589429, -0.04309408],\n",
       "       [-0.35714299, -0.05178943,  0.24433167],\n",
       "       [-0.37221656,  0.07023956,  0.00557923],\n",
       "       [-0.39691281, -0.14222835, -0.08905298],\n",
       "       [-0.45926734,  0.04215028, -0.19370007],\n",
       "       [-0.37677463, -0.10426064,  0.44647871],\n",
       "       [-0.33991827,  0.19100224,  0.50681563],\n",
       "       [-0.37375125,  0.0950162 ,  0.30705972],\n",
       "       [-0.37727985,  0.01833741,  0.11811858],\n",
       "       [-0.31338931, -0.08272331,  0.33060378],\n",
       "       [-0.36868796,  0.14691836,  0.19452038],\n",
       "       [-0.32912215, -0.16464418,  0.14822945],\n",
       "       [-0.36237961,  0.14333733,  0.16400519],\n",
       "       [-0.45814698,  0.201055  ,  0.05055348],\n",
       "       [-0.32805041,  0.02690155,  0.03738779],\n",
       "       [-0.33560383,  0.08596578, -0.01412119],\n",
       "       [-0.35710336, -0.17425422, -0.05530657],\n",
       "       [-0.35171137,  0.06526148,  0.04960028],\n",
       "       [-0.36503148, -0.05397342,  0.13928026],\n",
       "       [-0.3760316 , -0.10032845,  0.11819086],\n",
       "       [-0.37495668,  0.02803461, -0.07460267],\n",
       "       [-0.3686042 , -0.05309932, -0.07738937],\n",
       "       [-0.34332217, -0.10006446,  0.1556451 ],\n",
       "       [-0.37736043,  0.15517242,  0.30807645],\n",
       "       [-0.37021947,  0.10851233,  0.41404899],\n",
       "       [-0.37566009, -0.09836236, -0.04595306],\n",
       "       [-0.40832857, -0.11299658,  0.02627306],\n",
       "       [-0.37399488, -0.18452047,  0.22702238],\n",
       "       [-0.39898916,  0.06442845,  0.10175374],\n",
       "       [-0.42460626,  0.05014538, -0.18482317],\n",
       "       [-0.36897572, -0.05506541,  0.08675455],\n",
       "       [-0.39463245,  0.0531163 ,  0.09981588],\n",
       "       [-0.40592483, -0.24013438, -0.35640606],\n",
       "       [-0.4270145 ,  0.13237131, -0.12951076],\n",
       "       [-0.34270702,  0.1814383 ,  0.07153852],\n",
       "       [-0.31476676,  0.20541857,  0.16539417],\n",
       "       [-0.38670434, -0.06716449, -0.09477094],\n",
       "       [-0.36158795,  0.1146285 ,  0.19081255],\n",
       "       [-0.40451353,  0.05757144, -0.08633856],\n",
       "       [-0.36229136, -0.01176847,  0.21946216],\n",
       "       [-0.38512421, -0.06139947,  0.04079565],\n",
       "       [ 0.18303796, -0.27956034,  0.25951708],\n",
       "       [ 0.13284355, -0.01238674,  0.1205747 ],\n",
       "       [ 0.20860644, -0.23263626,  0.19099878],\n",
       "       [ 0.02611568, -0.12348888, -0.31360465],\n",
       "       [ 0.15501263, -0.21161748,  0.02825259],\n",
       "       [ 0.09141303,  0.02824434, -0.15841867],\n",
       "       [ 0.15600379,  0.11676326,  0.1073688 ],\n",
       "       [-0.10672101,  0.00845961, -0.38062087],\n",
       "       [ 0.1487484 , -0.28558934,  0.08649625],\n",
       "       [-0.00124588,  0.19331573, -0.27388052],\n",
       "       [-0.07234768, -0.18552906, -0.47950979],\n",
       "       [ 0.07289725,  0.08976597, -0.0393848 ],\n",
       "       [ 0.0377489 , -0.47730247, -0.20833639],\n",
       "       [ 0.14031507, -0.0427105 , -0.04727705],\n",
       "       [-0.02477764,  0.06219963, -0.0965307 ],\n",
       "       [ 0.13218427, -0.2163366 ,  0.1769528 ],\n",
       "       [ 0.0940649 ,  0.22555509, -0.13369373],\n",
       "       [ 0.03363583, -0.18645366, -0.12636119],\n",
       "       [ 0.13458801, -0.34347441, -0.20572633],\n",
       "       [ 0.00644309, -0.16158985, -0.22113797],\n",
       "       [ 0.15902718,  0.3160401 , -0.03205018],\n",
       "       [ 0.05098526, -0.15804989, -0.02610662],\n",
       "       [ 0.18494099, -0.23918821, -0.12415545],\n",
       "       [ 0.13131072, -0.15888732, -0.06921529],\n",
       "       [ 0.10183895, -0.22127362,  0.05645767],\n",
       "       [ 0.12824003, -0.2174286 ,  0.12442709],\n",
       "       [ 0.18976196, -0.35872817,  0.09258646],\n",
       "       [ 0.22192655, -0.11340136,  0.1013188 ],\n",
       "       [ 0.11586246,  0.02435825, -0.06187192],\n",
       "       [-0.04353387, -0.21899807, -0.13948605],\n",
       "       [-0.00970539, -0.16792392, -0.26709687],\n",
       "       [-0.02701387, -0.21069792, -0.25767108],\n",
       "       [ 0.01943581, -0.12187394, -0.11894554],\n",
       "       [ 0.19660039,  0.01111668, -0.15944415],\n",
       "       [ 0.08376817,  0.30559702, -0.18343274],\n",
       "       [ 0.1149461 ,  0.26745499,  0.07355011],\n",
       "       [ 0.17390124, -0.16307846,  0.15439339],\n",
       "       [ 0.11611954, -0.42268835, -0.14091585],\n",
       "       [ 0.03503946,  0.12952295, -0.10170854],\n",
       "       [ 0.02370745, -0.04126296, -0.25829224],\n",
       "       [ 0.06621606, -0.01671364, -0.25404429],\n",
       "       [ 0.12690671, -0.00683961, -0.01305404],\n",
       "       [ 0.03284418, -0.15774483, -0.15316855],\n",
       "       [-0.10036853, -0.07267432, -0.38340757],\n",
       "       [ 0.05085606,  0.01142614, -0.19124395],\n",
       "       [ 0.04728782,  0.05721212, -0.08054686],\n",
       "       [ 0.05359618,  0.05363109, -0.11106204],\n",
       "       [ 0.09154223, -0.14123168,  0.00671866],\n",
       "       [-0.12913689, -0.00866365, -0.28638422],\n",
       "       [ 0.04259605,  0.00727606, -0.13215144],\n",
       "       [ 0.36059706,  0.52269753, -0.00373053],\n",
       "       [ 0.20161637,  0.2037544 , -0.2177601 ],\n",
       "       [ 0.37277512, -0.07617888,  0.13025962],\n",
       "       [ 0.28086692,  0.07455391, -0.06807524],\n",
       "       [ 0.33478495,  0.19623679, -0.01524957],\n",
       "       [ 0.48394663, -0.23958923,  0.20863948],\n",
       "       [ 0.07425543,  0.37520092, -0.45177923],\n",
       "       [ 0.41778023, -0.28896128,  0.13465214],\n",
       "       [ 0.33068532, -0.23949767, -0.09235565],\n",
       "       [ 0.4155242 ,  0.29108977,  0.2964968 ],\n",
       "       [ 0.23673854,  0.16670436,  0.09174845],\n",
       "       [ 0.25691502, -0.02588727, -0.0816767 ],\n",
       "       [ 0.30851307,  0.02291574,  0.08191834],\n",
       "       [ 0.19177624,  0.19383931, -0.29423419],\n",
       "       [ 0.22593343,  0.43252701, -0.20439881],\n",
       "       [ 0.27131137,  0.32980525,  0.04516839],\n",
       "       [ 0.27775528,  0.03038286,  0.01588678],\n",
       "       [ 0.49677051,  0.09206749,  0.44533282],\n",
       "       [ 0.54073266, -0.35327198,  0.09746579],\n",
       "       [ 0.18531251, -0.23722212, -0.28829937],\n",
       "       [ 0.34587015,  0.15066869,  0.14324867],\n",
       "       [ 0.17081128,  0.35195709, -0.22956827],\n",
       "       [ 0.49860323, -0.39412598,  0.17448876],\n",
       "       [ 0.19784546, -0.04436651, -0.07741999],\n",
       "       [ 0.32416084,  0.19675973,  0.12688383],\n",
       "       [ 0.37240678, -0.14132764,  0.21245167],\n",
       "       [ 0.17928873,  0.03152535, -0.06806648],\n",
       "       [ 0.18393638,  0.15901431, -0.04419039],\n",
       "       [ 0.3025321 ,  0.10601576, -0.07943888],\n",
       "       [ 0.34019806, -0.30910156,  0.17599084],\n",
       "       [ 0.40482846, -0.34304743,  0.14214007],\n",
       "       [ 0.46024604, -0.07876452,  0.52049021],\n",
       "       [ 0.30763634,  0.14354769, -0.08229786],\n",
       "       [ 0.20573712, -0.10536519, -0.05432046],\n",
       "       [ 0.25376561, -0.11887075, -0.18934692],\n",
       "       [ 0.43828224, -0.2307567 ,  0.26062506],\n",
       "       [ 0.30547173,  0.50531028,  0.05305188],\n",
       "       [ 0.2714028 ,  0.11151679,  0.01867348],\n",
       "       [ 0.16658377,  0.19379321, -0.06249309],\n",
       "       [ 0.30025307,  0.01876566,  0.14101085],\n",
       "       [ 0.32967754,  0.22188752,  0.06956129],\n",
       "       [ 0.27384881,  0.07810331,  0.15499331],\n",
       "       [ 0.20161637,  0.2037544 , -0.2177601 ],\n",
       "       [ 0.36513027,  0.2011738 ,  0.10524555],\n",
       "       [ 0.34457778,  0.34688745,  0.1154479 ],\n",
       "       [ 0.27696045,  0.12227435,  0.0710313 ],\n",
       "       [ 0.21756217, -0.08381843, -0.14215819],\n",
       "       [ 0.25135102,  0.08972051,  0.02986924],\n",
       "       [ 0.27081065,  0.49731518,  0.04417498],\n",
       "       [ 0.19804814,  0.24954039, -0.10706301]])"
      ]
     },
     "execution_count": 45,
     "metadata": {},
     "output_type": "execute_result"
    }
   ],
   "source": [
    "X = pca.fit_transform(X)\n",
    "X"
   ]
  },
  {
   "cell_type": "code",
   "execution_count": 47,
   "metadata": {},
   "outputs": [
    {
     "data": {
      "image/png": "[encoded data removed]",
      "text/plain": [
       "<Figure size 288x216 with 1 Axes>"
      ]
     },
     "metadata": {
      "needs_background": "light"
     },
     "output_type": "display_data"
    }
   ],
   "source": [
    "fig = plt.figure(1, figsize=(4, 3))\n",
    "ax = Axes3D(fig, rect=[0, 0, .95, 1], elev=48, azim=134)\n",
    "plt.cla()\n",
    "ax.scatter(X[:, 0], X[:, 1], X[:, 2], c=y, cmap=plt.cm.Spectral, edgecolor='k')\n",
    "\n",
    "plt.show()"
   ]
  },
  {
   "cell_type": "code",
   "execution_count": null,
   "metadata": {},
   "outputs": [],
   "source": []
  }
 ],
 "metadata": {
  "kernelspec": {
   "display_name": "Python 3",
   "language": "python",
   "name": "python3"
  },
  "language_info": {
   "codemirror_mode": {
    "name": "ipython",
    "version": 3
   },
   "file_extension": ".py",
   "mimetype": "text/x-python",
   "name": "python",
   "nbconvert_exporter": "python",
   "pygments_lexer": "ipython3",
   "version": "3.7.4"
  }
 },
 "nbformat": 4,
 "nbformat_minor": 4
}
